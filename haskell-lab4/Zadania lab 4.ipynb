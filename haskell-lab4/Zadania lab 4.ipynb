{
 "cells": [
  {
   "cell_type": "markdown",
   "metadata": {},
   "source": [
    "# ZADANIA - laboratorium 3\n",
    "## pkt 1\n",
    "### 5.1\n",
    "Sprawdzić działanie funkcji `polarToCartesian''`"
   ]
  },
  {
   "cell_type": "code",
   "execution_count": 2,
   "metadata": {},
   "outputs": [],
   "source": [
    "newtype CartesianCoord'' a = MkCartesianCoord'' (a,a)\n",
    "newtype PolarCoord'' a = MkPolarCoord'' (a,a)\n",
    "\n",
    "polarToCartesian'' :: Floating a => PolarCoord'' a -> CartesianCoord'' a\n",
    "polarToCartesian'' (MkPolarCoord'' (r,phi)) = MkCartesianCoord'' (r * cos phi, r * sin phi)"
   ]
  },
  {
   "cell_type": "code",
   "execution_count": 1,
   "metadata": {},
   "outputs": [
    {
     "ename": "",
     "evalue": "",
     "output_type": "error",
     "traceback": [
      "<interactive>:1:14: error: Data constructor not in scope: MkPolarCoord'' :: (Integer, Double) -> (a, b)"
     ]
    }
   ],
   "source": [
    "let (a,b) = (MkPolarCoord'' (1,pi/4))\n",
    "let (MkCartesianCoord'' (x1,y1)) = polarToCartesian' (a,b)\n",
    "let (MkCartesianCoord'' (x2,y2)) = polarToCartesian' (x1,y1) -- !!!\n",
    "polarToCartesian' . polarToCartesian' $ (1,pi/4) -- !!!\n"
   ]
  },
  {
   "cell_type": "markdown",
   "metadata": {},
   "source": [
    "Jak widać na powyższym przykładzie, silne typowanie w haskellu zapobiega uzyskaniu bezsensownych wyników.\n",
    "\n",
    "Oznacza to, że użycie `newtype` daje silniejsze restrykcje i pozwala programiście na lepszą kontrolę nad kodem i wprowadzanymi danymi.\n",
    "Potrzeba jednak za każdym razem odpowiednio używać konstruktorów, co dla leniwych informatyków może być uciążliwe.\n",
    "\n",
    "Dlatego poprzednie metody, pozwalające na wiekszą swobodę, mogą być dla większości ludzi przystępniejsze. Zwłaszcza stosowanie aliasów dzięki metodzie `type` pozwala na lepsze pokazanie, co autor kodu miał na mysli bez jednoczesnego narzucania zmiany typu za każdym razem (słowem: ufamy programiście, który modyfikuje nasz kod :) )  "
   ]
  },
  {
   "cell_type": "markdown",
   "metadata": {},
   "source": [
    "### pkt 2"
   ]
  },
  {
   "cell_type": "markdown",
   "metadata": {},
   "source": [
    "### 7.1\n",
    "Zdefiniować funkcje dostępowe np. xCoord3D itd. dla następującego typu (reprezentacja wektorów w 3D, współrzędne kartezjańskie"
   ]
  },
  {
   "cell_type": "code",
   "execution_count": 1,
   "metadata": {},
   "outputs": [
    {
     "data": {
      "text/plain": [
       "1"
      ]
     },
     "metadata": {},
     "output_type": "display_data"
    },
    {
     "data": {
      "text/plain": [
       "2"
      ]
     },
     "metadata": {},
     "output_type": "display_data"
    },
    {
     "data": {
      "text/plain": [
       "3"
      ]
     },
     "metadata": {},
     "output_type": "display_data"
    }
   ],
   "source": [
    "data Cart3DVec a = Cart3DVec a a a\n",
    "\n",
    "xCoord :: Cart3DVec a -> a\n",
    "xCoord (Cart3DVec x _ _) = x\n",
    "\n",
    "yCoord :: Cart3DVec a -> a\n",
    "yCoord (Cart3DVec _ y _) = y\n",
    "\n",
    "zCoord :: Cart3DVec a -> a\n",
    "zCoord (Cart3DVec _ _ z) = z\n",
    "\n",
    "let p123 = Cart3DVec 1 2 3\n",
    "xCoord p123\n",
    "yCoord p123\n",
    "zCoord p123"
   ]
  },
  {
   "cell_type": "markdown",
   "metadata": {},
   "source": [
    "### 7.2 \n",
    "Wykorzystując record syntax napisać nową wersję Cart3DVec, a następnie sprawdzić istnienie odpowiednich (wygenerowanych przez kompilator) funkcji dostępowych"
   ]
  },
  {
   "cell_type": "code",
   "execution_count": 2,
   "metadata": {},
   "outputs": [
    {
     "data": {
      "text/html": [
       "<style>/* Styles used for the Hoogle display in the pager */\n",
       ".hoogle-doc {\n",
       "display: block;\n",
       "padding-bottom: 1.3em;\n",
       "padding-left: 0.4em;\n",
       "}\n",
       ".hoogle-code {\n",
       "display: block;\n",
       "font-family: monospace;\n",
       "white-space: pre;\n",
       "}\n",
       ".hoogle-text {\n",
       "display: block;\n",
       "}\n",
       ".hoogle-name {\n",
       "color: green;\n",
       "font-weight: bold;\n",
       "}\n",
       ".hoogle-head {\n",
       "font-weight: bold;\n",
       "}\n",
       ".hoogle-sub {\n",
       "display: block;\n",
       "margin-left: 0.4em;\n",
       "}\n",
       ".hoogle-package {\n",
       "font-weight: bold;\n",
       "font-style: italic;\n",
       "}\n",
       ".hoogle-module {\n",
       "font-weight: bold;\n",
       "}\n",
       ".hoogle-class {\n",
       "font-weight: bold;\n",
       "}\n",
       ".get-type {\n",
       "color: green;\n",
       "font-weight: bold;\n",
       "font-family: monospace;\n",
       "display: block;\n",
       "white-space: pre-wrap;\n",
       "}\n",
       ".show-type {\n",
       "color: green;\n",
       "font-weight: bold;\n",
       "font-family: monospace;\n",
       "margin-left: 1em;\n",
       "}\n",
       ".mono {\n",
       "font-family: monospace;\n",
       "display: block;\n",
       "}\n",
       ".err-msg {\n",
       "color: red;\n",
       "font-style: italic;\n",
       "font-family: monospace;\n",
       "white-space: pre;\n",
       "display: block;\n",
       "}\n",
       "#unshowable {\n",
       "color: red;\n",
       "font-weight: bold;\n",
       "}\n",
       ".err-msg.in.collapse {\n",
       "padding-top: 0.7em;\n",
       "}\n",
       ".highlight-code {\n",
       "white-space: pre;\n",
       "font-family: monospace;\n",
       "}\n",
       ".suggestion-warning { \n",
       "font-weight: bold;\n",
       "color: rgb(200, 130, 0);\n",
       "}\n",
       ".suggestion-error { \n",
       "font-weight: bold;\n",
       "color: red;\n",
       "}\n",
       ".suggestion-name {\n",
       "font-weight: bold;\n",
       "}\n",
       "</style><span class='get-type'>x :: forall a. Cart3DVec a -> a</span>"
      ],
      "text/plain": [
       "x :: forall a. Cart3DVec a -> a"
      ]
     },
     "metadata": {},
     "output_type": "display_data"
    },
    {
     "data": {
      "text/html": [
       "<style>/* Styles used for the Hoogle display in the pager */\n",
       ".hoogle-doc {\n",
       "display: block;\n",
       "padding-bottom: 1.3em;\n",
       "padding-left: 0.4em;\n",
       "}\n",
       ".hoogle-code {\n",
       "display: block;\n",
       "font-family: monospace;\n",
       "white-space: pre;\n",
       "}\n",
       ".hoogle-text {\n",
       "display: block;\n",
       "}\n",
       ".hoogle-name {\n",
       "color: green;\n",
       "font-weight: bold;\n",
       "}\n",
       ".hoogle-head {\n",
       "font-weight: bold;\n",
       "}\n",
       ".hoogle-sub {\n",
       "display: block;\n",
       "margin-left: 0.4em;\n",
       "}\n",
       ".hoogle-package {\n",
       "font-weight: bold;\n",
       "font-style: italic;\n",
       "}\n",
       ".hoogle-module {\n",
       "font-weight: bold;\n",
       "}\n",
       ".hoogle-class {\n",
       "font-weight: bold;\n",
       "}\n",
       ".get-type {\n",
       "color: green;\n",
       "font-weight: bold;\n",
       "font-family: monospace;\n",
       "display: block;\n",
       "white-space: pre-wrap;\n",
       "}\n",
       ".show-type {\n",
       "color: green;\n",
       "font-weight: bold;\n",
       "font-family: monospace;\n",
       "margin-left: 1em;\n",
       "}\n",
       ".mono {\n",
       "font-family: monospace;\n",
       "display: block;\n",
       "}\n",
       ".err-msg {\n",
       "color: red;\n",
       "font-style: italic;\n",
       "font-family: monospace;\n",
       "white-space: pre;\n",
       "display: block;\n",
       "}\n",
       "#unshowable {\n",
       "color: red;\n",
       "font-weight: bold;\n",
       "}\n",
       ".err-msg.in.collapse {\n",
       "padding-top: 0.7em;\n",
       "}\n",
       ".highlight-code {\n",
       "white-space: pre;\n",
       "font-family: monospace;\n",
       "}\n",
       ".suggestion-warning { \n",
       "font-weight: bold;\n",
       "color: rgb(200, 130, 0);\n",
       "}\n",
       ".suggestion-error { \n",
       "font-weight: bold;\n",
       "color: red;\n",
       "}\n",
       ".suggestion-name {\n",
       "font-weight: bold;\n",
       "}\n",
       "</style><span class='get-type'>y :: forall a. Cart3DVec a -> a</span>"
      ],
      "text/plain": [
       "y :: forall a. Cart3DVec a -> a"
      ]
     },
     "metadata": {},
     "output_type": "display_data"
    },
    {
     "data": {
      "text/html": [
       "<style>/* Styles used for the Hoogle display in the pager */\n",
       ".hoogle-doc {\n",
       "display: block;\n",
       "padding-bottom: 1.3em;\n",
       "padding-left: 0.4em;\n",
       "}\n",
       ".hoogle-code {\n",
       "display: block;\n",
       "font-family: monospace;\n",
       "white-space: pre;\n",
       "}\n",
       ".hoogle-text {\n",
       "display: block;\n",
       "}\n",
       ".hoogle-name {\n",
       "color: green;\n",
       "font-weight: bold;\n",
       "}\n",
       ".hoogle-head {\n",
       "font-weight: bold;\n",
       "}\n",
       ".hoogle-sub {\n",
       "display: block;\n",
       "margin-left: 0.4em;\n",
       "}\n",
       ".hoogle-package {\n",
       "font-weight: bold;\n",
       "font-style: italic;\n",
       "}\n",
       ".hoogle-module {\n",
       "font-weight: bold;\n",
       "}\n",
       ".hoogle-class {\n",
       "font-weight: bold;\n",
       "}\n",
       ".get-type {\n",
       "color: green;\n",
       "font-weight: bold;\n",
       "font-family: monospace;\n",
       "display: block;\n",
       "white-space: pre-wrap;\n",
       "}\n",
       ".show-type {\n",
       "color: green;\n",
       "font-weight: bold;\n",
       "font-family: monospace;\n",
       "margin-left: 1em;\n",
       "}\n",
       ".mono {\n",
       "font-family: monospace;\n",
       "display: block;\n",
       "}\n",
       ".err-msg {\n",
       "color: red;\n",
       "font-style: italic;\n",
       "font-family: monospace;\n",
       "white-space: pre;\n",
       "display: block;\n",
       "}\n",
       "#unshowable {\n",
       "color: red;\n",
       "font-weight: bold;\n",
       "}\n",
       ".err-msg.in.collapse {\n",
       "padding-top: 0.7em;\n",
       "}\n",
       ".highlight-code {\n",
       "white-space: pre;\n",
       "font-family: monospace;\n",
       "}\n",
       ".suggestion-warning { \n",
       "font-weight: bold;\n",
       "color: rgb(200, 130, 0);\n",
       "}\n",
       ".suggestion-error { \n",
       "font-weight: bold;\n",
       "color: red;\n",
       "}\n",
       ".suggestion-name {\n",
       "font-weight: bold;\n",
       "}\n",
       "</style><span class='get-type'>z :: forall a. Cart3DVec a -> a</span>"
      ],
      "text/plain": [
       "z :: forall a. Cart3DVec a -> a"
      ]
     },
     "metadata": {},
     "output_type": "display_data"
    },
    {
     "data": {
      "text/plain": [
       "1"
      ]
     },
     "metadata": {},
     "output_type": "display_data"
    },
    {
     "data": {
      "text/plain": [
       "2"
      ]
     },
     "metadata": {},
     "output_type": "display_data"
    },
    {
     "data": {
      "text/plain": [
       "3"
      ]
     },
     "metadata": {},
     "output_type": "display_data"
    }
   ],
   "source": [
    "data Cart3DVec a = Cart3DVec {x::a, y::a, z::a}\n",
    "\n",
    ":t x\n",
    ":t y\n",
    ":t z\n",
    "let p123 = Cart3DVec 1 2 3\n",
    "x p123\n",
    "y p123\n",
    "z p123"
   ]
  },
  {
   "cell_type": "markdown",
   "metadata": {},
   "source": [
    "### 7.6\n",
    "Zdefiniować funkcję obliczającą pole powierzchni dla koła i trójkąta należących do typu algebraicznego\n",
    "\n",
    "`data Shape = Circle Float |\n",
    "             Rectangle Float Float`"
   ]
  },
  {
   "cell_type": "code",
   "execution_count": 3,
   "metadata": {},
   "outputs": [
    {
     "data": {
      "text/plain": [
       "12.566371"
      ]
     },
     "metadata": {},
     "output_type": "display_data"
    },
    {
     "data": {
      "text/plain": [
       "6.0"
      ]
     },
     "metadata": {},
     "output_type": "display_data"
    }
   ],
   "source": [
    "data Shape = Circle Float | Rectangle Float Float\n",
    "             \n",
    "area :: Shape -> Float\n",
    "area (Circle r) = pi*r^2\n",
    "area (Rectangle a b) = a*b\n",
    "\n",
    "let c1 = Circle 2\n",
    "area c1\n",
    "let r1 = Rectangle 2 3\n",
    "area r1"
   ]
  },
  {
   "cell_type": "markdown",
   "metadata": {},
   "source": [
    "### 7.8\n",
    "Zdefiniować typ wyliczeniowy TrafficLights dla sygnalizacji świetlnej oraz funkcję\n",
    "\n",
    "`actionFor :: TrafficLights -> String`\n",
    "\n",
    "podającą, co powinien robić kierowca, widząc dane światło"
   ]
  },
  {
   "cell_type": "code",
   "execution_count": 4,
   "metadata": {},
   "outputs": [
    {
     "data": {
      "text/plain": [
       "\"Stoj\""
      ]
     },
     "metadata": {},
     "output_type": "display_data"
    },
    {
     "data": {
      "text/plain": [
       "\"Przygotuj sie\""
      ]
     },
     "metadata": {},
     "output_type": "display_data"
    },
    {
     "data": {
      "text/plain": [
       "\"GAZUUUU!\""
      ]
     },
     "metadata": {},
     "output_type": "display_data"
    }
   ],
   "source": [
    "data TrafficLights = Czerwone |\n",
    "                     Żółte |\n",
    "                     Zielone\n",
    "\n",
    "actionFor :: TrafficLights -> String\n",
    "actionFor Czerwone = \"Stoj\"\n",
    "actionFor Żółte = \"Przygotuj sie\"\n",
    "actionFor Zielone = \"GAZUUUU!\"\n",
    "\n",
    "actionFor Czerwone\n",
    "actionFor Żółte\n",
    "actionFor Zielone"
   ]
  },
  {
   "cell_type": "markdown",
   "metadata": {},
   "source": [
    "## pkt 3\n",
    "### 4.1\n",
    "Napisać definicje funkcji"
   ]
  },
  {
   "cell_type": "code",
   "execution_count": 7,
   "metadata": {},
   "outputs": [],
   "source": [
    "data BinTree a = EmptyBT |\n",
    "                 NodeBT a (BinTree a) (BinTree a)"
   ]
  },
  {
   "cell_type": "markdown",
   "metadata": {},
   "source": [
    "a) głębokość drzewa"
   ]
  },
  {
   "cell_type": "code",
   "execution_count": 11,
   "metadata": {},
   "outputs": [
    {
     "data": {
      "text/plain": [
       "2"
      ]
     },
     "metadata": {},
     "output_type": "display_data"
    }
   ],
   "source": [
    "depthOfBT :: BinTree a -> Int\n",
    "depthOfBT EmptyBT = 0\n",
    "depthOfBT (NodeBT n lt rt) = 1 + max (depthOfBT lt) (depthOfBT rt)\n",
    "\n",
    "depthOfBT (NodeBT 1 (NodeBT 2 EmptyBT EmptyBT) EmptyBT)"
   ]
  },
  {
   "cell_type": "markdown",
   "metadata": {},
   "source": [
    "b) przejście po drzewie\n",
    "    - PRE ORDER"
   ]
  },
  {
   "cell_type": "code",
   "execution_count": 9,
   "metadata": {},
   "outputs": [
    {
     "data": {
      "text/plain": [
       "[1,2,3]"
      ]
     },
     "metadata": {},
     "output_type": "display_data"
    }
   ],
   "source": [
    "flattenBT :: BinTree a -> [a]\n",
    "flattenBT EmptyBT = []\n",
    "flattenBT (NodeBT n lt rt) = n : flattenBT lt ++ flattenBT rt\n",
    "\n",
    "flattenBT (NodeBT 1 (NodeBT 2 EmptyBT EmptyBT) (NodeBT 3 EmptyBT EmptyBT))"
   ]
  },
  {
   "cell_type": "markdown",
   "metadata": {},
   "source": [
    "-IN ORDER"
   ]
  },
  {
   "cell_type": "code",
   "execution_count": 12,
   "metadata": {
    "scrolled": true
   },
   "outputs": [
    {
     "data": {
      "text/plain": [
       "[2,1,3]"
      ]
     },
     "metadata": {},
     "output_type": "display_data"
    }
   ],
   "source": [
    "flattenBT :: BinTree a -> [a]\n",
    "flattenBT EmptyBT = []\n",
    "flattenBT (NodeBT n lt rt) =  flattenBT lt ++ [n] ++ flattenBT rt\n",
    "\n",
    "flattenBT (NodeBT 1 (NodeBT 2 EmptyBT EmptyBT) (NodeBT 3 EmptyBT EmptyBT))"
   ]
  },
  {
   "cell_type": "markdown",
   "metadata": {},
   "source": [
    "-POST ORDER"
   ]
  },
  {
   "cell_type": "code",
   "execution_count": 13,
   "metadata": {
    "scrolled": true
   },
   "outputs": [
    {
     "data": {
      "text/plain": [
       "[2,3,1]"
      ]
     },
     "metadata": {},
     "output_type": "display_data"
    }
   ],
   "source": [
    "flattenBT :: BinTree a -> [a]\n",
    "flattenBT EmptyBT = []\n",
    "flattenBT (NodeBT n lt rt) =  flattenBT lt  ++ flattenBT rt ++ [n]\n",
    "\n",
    "flattenBT (NodeBT 1 (NodeBT 2 EmptyBT EmptyBT) (NodeBT 3 EmptyBT EmptyBT))"
   ]
  },
  {
   "cell_type": "markdown",
   "metadata": {},
   "source": [
    "c) map dla drzewa"
   ]
  },
  {
   "cell_type": "code",
   "execution_count": 15,
   "metadata": {},
   "outputs": [
    {
     "data": {
      "text/plain": [
       "[4,5,3]"
      ]
     },
     "metadata": {},
     "output_type": "display_data"
    }
   ],
   "source": [
    "mapBT :: (a -> b) -> BinTree a -> BinTree b\n",
    "mapBT f EmptyBT = EmptyBT\n",
    "mapBT f (NodeBT n lt rt) = NodeBT (f n) (mapBT f lt) (mapBT f rt)\n",
    "\n",
    "flattenBT $ mapBT (+2) (NodeBT 1 (NodeBT 2 EmptyBT EmptyBT) (NodeBT 3 EmptyBT EmptyBT))"
   ]
  },
  {
   "cell_type": "markdown",
   "metadata": {},
   "source": [
    "d) wtawienie elementu do drzewa (BST)"
   ]
  },
  {
   "cell_type": "code",
   "execution_count": 16,
   "metadata": {},
   "outputs": [
    {
     "data": {
      "text/plain": [
       "[2,4,3,1]"
      ]
     },
     "metadata": {},
     "output_type": "display_data"
    }
   ],
   "source": [
    "insert :: Ord a => a -> BinTree a -> BinTree a\n",
    "insert a EmptyBT = NodeBT a EmptyBT EmptyBT\n",
    "insert a (NodeBT n lt rt) = if a < n then NodeBT n (insert a lt) rt else NodeBT n lt (insert a rt)\n",
    "\n",
    "flattenBT $ insert 4 (NodeBT 1 (NodeBT 2 EmptyBT EmptyBT) (NodeBT 3 EmptyBT EmptyBT))"
   ]
  },
  {
   "cell_type": "markdown",
   "metadata": {},
   "source": [
    "e) lista w postaci Drzewa BST"
   ]
  },
  {
   "cell_type": "code",
   "execution_count": 17,
   "metadata": {},
   "outputs": [
    {
     "data": {
      "text/plain": [
       "[1,2,5,4,3]"
      ]
     },
     "metadata": {},
     "output_type": "display_data"
    }
   ],
   "source": [
    "list2BST :: Ord a => [a] -> BinTree a  -- drzewo nie zawsze bedzie zbalansowane\n",
    "list2BST [] = EmptyBT\n",
    "list2BST (x:xs) = NodeBT x (list2BST $ filter (< x) xs) (list2BST $ filter (>= x) xs)\n",
    "\n",
    "flattenBT $ list2BST [3,2,4,1,5]  -- jest ok - przejście preOrder po drzewie zwraca posortowaną tablicę"
   ]
  },
  {
   "cell_type": "markdown",
   "metadata": {},
   "source": [
    "### 4.6\n",
    "Rozszerzyć definicję `data Expr a` o operację odejmowania i mnożenia oraz zmodyfikować odpowiednio funkcje `show'` i `eval`"
   ]
  },
  {
   "cell_type": "code",
   "execution_count": 18,
   "metadata": {},
   "outputs": [
    {
     "data": {
      "text/plain": [
       "\"(1+2)\""
      ]
     },
     "metadata": {},
     "output_type": "display_data"
    },
    {
     "data": {
      "text/plain": [
       "\"(1-2)\""
      ]
     },
     "metadata": {},
     "output_type": "display_data"
    },
    {
     "data": {
      "text/plain": [
       "\"(1*2)\""
      ]
     },
     "metadata": {},
     "output_type": "display_data"
    },
    {
     "data": {
      "text/plain": [
       "3"
      ]
     },
     "metadata": {},
     "output_type": "display_data"
    },
    {
     "data": {
      "text/plain": [
       "-1"
      ]
     },
     "metadata": {},
     "output_type": "display_data"
    },
    {
     "data": {
      "text/plain": [
       "2"
      ]
     },
     "metadata": {},
     "output_type": "display_data"
    }
   ],
   "source": [
    "data Expr a = Lit a | -- literal/value a, e.g. Lit 2 = 2\n",
    "              Add (Expr a) (Expr a) |\n",
    "              Subtract (Expr a) (Expr a) |\n",
    "              Multiply (Expr a) (Expr a)\n",
    "              \n",
    "eval :: Num a => Expr a -> a\n",
    "eval (Lit n) = n\n",
    "eval (Add e1 e2) = eval e1 + eval e2\n",
    "eval (Subtract e1 e2) = eval e1 - eval e2\n",
    "eval (Multiply e1 e2) = eval e1 * eval e2\n",
    "\n",
    "show' :: Show a => Expr a -> String\n",
    "show' (Lit n) = show n\n",
    "show' (Add e1 e2) = \"(\" ++ show' e1 ++ \"+\" ++ show' e2 ++ \")\"\n",
    "show' (Subtract e1 e2) = \"(\" ++ show' e1 ++ \"-\" ++ show' e2 ++ \")\"\n",
    "show' (Multiply e1 e2) = \"(\" ++ show' e1 ++ \"*\" ++ show' e2 ++ \")\"\n",
    "\n",
    "show' (Add (Lit 1) (Lit 2))\n",
    "show' (Subtract (Lit 1) (Lit 2))\n",
    "show' (Multiply (Lit 1) (Lit 2))\n",
    "\n",
    "eval (Add (Lit 1) (Lit 2))\n",
    "eval (Subtract (Lit 1) (Lit 2))\n",
    "eval (Multiply (Lit 1) (Lit 2))\n",
    " "
   ]
  },
  {
   "cell_type": "markdown",
   "metadata": {},
   "source": [
    "## pkt 5\n",
    "### 6.1\n",
    "Porównać `data` z `newType` na podstawie `MkMyInt`"
   ]
  },
  {
   "cell_type": "code",
   "execution_count": 19,
   "metadata": {},
   "outputs": [
    {
     "data": {
      "text/html": [
       "<style>/* Styles used for the Hoogle display in the pager */\n",
       ".hoogle-doc {\n",
       "display: block;\n",
       "padding-bottom: 1.3em;\n",
       "padding-left: 0.4em;\n",
       "}\n",
       ".hoogle-code {\n",
       "display: block;\n",
       "font-family: monospace;\n",
       "white-space: pre;\n",
       "}\n",
       ".hoogle-text {\n",
       "display: block;\n",
       "}\n",
       ".hoogle-name {\n",
       "color: green;\n",
       "font-weight: bold;\n",
       "}\n",
       ".hoogle-head {\n",
       "font-weight: bold;\n",
       "}\n",
       ".hoogle-sub {\n",
       "display: block;\n",
       "margin-left: 0.4em;\n",
       "}\n",
       ".hoogle-package {\n",
       "font-weight: bold;\n",
       "font-style: italic;\n",
       "}\n",
       ".hoogle-module {\n",
       "font-weight: bold;\n",
       "}\n",
       ".hoogle-class {\n",
       "font-weight: bold;\n",
       "}\n",
       ".get-type {\n",
       "color: green;\n",
       "font-weight: bold;\n",
       "font-family: monospace;\n",
       "display: block;\n",
       "white-space: pre-wrap;\n",
       "}\n",
       ".show-type {\n",
       "color: green;\n",
       "font-weight: bold;\n",
       "font-family: monospace;\n",
       "margin-left: 1em;\n",
       "}\n",
       ".mono {\n",
       "font-family: monospace;\n",
       "display: block;\n",
       "}\n",
       ".err-msg {\n",
       "color: red;\n",
       "font-style: italic;\n",
       "font-family: monospace;\n",
       "white-space: pre;\n",
       "display: block;\n",
       "}\n",
       "#unshowable {\n",
       "color: red;\n",
       "font-weight: bold;\n",
       "}\n",
       ".err-msg.in.collapse {\n",
       "padding-top: 0.7em;\n",
       "}\n",
       ".highlight-code {\n",
       "white-space: pre;\n",
       "font-family: monospace;\n",
       "}\n",
       ".suggestion-warning { \n",
       "font-weight: bold;\n",
       "color: rgb(200, 130, 0);\n",
       "}\n",
       ".suggestion-error { \n",
       "font-weight: bold;\n",
       "color: red;\n",
       "}\n",
       ".suggestion-name {\n",
       "font-weight: bold;\n",
       "}\n",
       "</style><div class=\"suggestion-name\" style=\"clear:both;\">Redundant bracket</div><div class=\"suggestion-row\" style=\"float: left;\"><div class=\"suggestion-warning\">Found:</div><div class=\"highlight-code\" id=\"haskell\">(MkMyInt 5) ^ 2</div></div><div class=\"suggestion-row\" style=\"float: left;\"><div class=\"suggestion-warning\">Why Not:</div><div class=\"highlight-code\" id=\"haskell\">MkMyInt 5 ^ 2</div></div><div class=\"suggestion-name\" style=\"clear:both;\">Redundant bracket</div><div class=\"suggestion-row\" style=\"float: left;\"><div class=\"suggestion-warning\">Found:</div><div class=\"highlight-code\" id=\"haskell\">(MkMyInt 5) ^ (MkMyInt 2)</div></div><div class=\"suggestion-row\" style=\"float: left;\"><div class=\"suggestion-warning\">Why Not:</div><div class=\"highlight-code\" id=\"haskell\">MkMyInt 5 ^ (MkMyInt 2)</div></div><div class=\"suggestion-name\" style=\"clear:both;\">Redundant bracket</div><div class=\"suggestion-row\" style=\"float: left;\"><div class=\"suggestion-warning\">Found:</div><div class=\"highlight-code\" id=\"haskell\">(MkMyInt 5) ^ (MkMyInt 2)</div></div><div class=\"suggestion-row\" style=\"float: left;\"><div class=\"suggestion-warning\">Why Not:</div><div class=\"highlight-code\" id=\"haskell\">(MkMyInt 5) ^ MkMyInt 2</div></div>"
      ],
      "text/plain": [
       "Line 25: Redundant bracket\n",
       "Found:\n",
       "(MkMyInt 5) ^ 2\n",
       "Why not:\n",
       "MkMyInt 5 ^ 2Line 26: Redundant bracket\n",
       "Found:\n",
       "(MkMyInt 5) ^ (MkMyInt 2)\n",
       "Why not:\n",
       "MkMyInt 5 ^ (MkMyInt 2)Line 26: Redundant bracket\n",
       "Found:\n",
       "(MkMyInt 5) ^ (MkMyInt 2)\n",
       "Why not:\n",
       "(MkMyInt 5) ^ MkMyInt 2"
      ]
     },
     "metadata": {},
     "output_type": "display_data"
    },
    {
     "data": {
      "text/plain": [
       "True"
      ]
     },
     "metadata": {},
     "output_type": "display_data"
    },
    {
     "data": {
      "text/plain": [
       "False"
      ]
     },
     "metadata": {},
     "output_type": "display_data"
    },
    {
     "data": {
      "text/plain": [
       "MkMyInt 3"
      ]
     },
     "metadata": {},
     "output_type": "display_data"
    },
    {
     "data": {
      "text/plain": [
       "MkMyInt 25"
      ]
     },
     "metadata": {},
     "output_type": "display_data"
    },
    {
     "ename": "",
     "evalue": "",
     "output_type": "error",
     "traceback": [
      "<interactive>:1:1: error:\n    • No instance for (Integral MyInt) arising from a use of ‘^’\n    • In the expression: (MkMyInt 5) ^ (MkMyInt 2)\n      In an equation for ‘it’: it = (MkMyInt 5) ^ (MkMyInt 2)"
     ]
    }
   ],
   "source": [
    "newtype MyInt = MkMyInt Int\n",
    "\n",
    "instance Eq MyInt where\n",
    "  (==) (MkMyInt i1) (MkMyInt i2) = i1 == i2\n",
    "  \n",
    "instance Ord MyInt where\n",
    "  (<=) (MkMyInt i1) (MkMyInt i2) = i1 <= i2\n",
    "  \n",
    "instance Num MyInt where\n",
    "  (+) (MkMyInt i1) (MkMyInt i2) = MkMyInt (i1 + i2)\n",
    "  (-) (MkMyInt i1) (MkMyInt i2) = MkMyInt (i1 - i2)\n",
    "  (*) (MkMyInt i1) (MkMyInt i2) = MkMyInt (i1 * i2)\n",
    "  negate (MkMyInt i)            = MkMyInt (negate i)\n",
    "  abs (MkMyInt i)               = MkMyInt (abs i)\n",
    "  signum (MkMyInt i)            = MkMyInt (signum i)\n",
    "  fromInteger int               = MkMyInt (fromIntegral int)\n",
    "  \n",
    "instance Show MyInt where\n",
    "  show (MkMyInt i) = \"MkMyInt \" ++ show i\n",
    "  \n",
    "MkMyInt 1 <= MkMyInt 2\n",
    "MkMyInt 1 >= MkMyInt 2\n",
    "\n",
    "MkMyInt 1 + MkMyInt 2\n",
    "(MkMyInt 5) ^ 2\n",
    "(MkMyInt 5) ^ (MkMyInt 2)"
   ]
  },
  {
   "cell_type": "markdown",
   "metadata": {},
   "source": [
    "Nie widzę różnicy między jednym a drugim. Wszystko działa po staremu. Nie można do niego dodać jednak innych pól poza jednym.\n",
    "### 6.2\n",
    "Dołączyć `BinTree a` do klasy `Eq` (deklaracja `instance Eq a => Eq (BinTree a) where)`"
   ]
  },
  {
   "cell_type": "code",
   "execution_count": 20,
   "metadata": {},
   "outputs": [
    {
     "data": {
      "text/plain": [
       "True"
      ]
     },
     "metadata": {},
     "output_type": "display_data"
    }
   ],
   "source": [
    "data BinTree a = EmptyBT |\n",
    "                 NodeBT a (BinTree a) (BinTree a)\n",
    "      \n",
    "instance Eq a => Eq (BinTree a) where\n",
    "   (==) EmptyBT EmptyBT = True\n",
    "   (==) EmptyBT (NodeBT n2 lt2 rt2) = False\n",
    "   (==) (NodeBT n1 lt1 rt1) EmptyBT = False\n",
    "   (==) (NodeBT n1 lt1 rt1) (NodeBT n2 lt2 rt2) = (n1 == n2) && lt1 == lt2 &&  rt1 == rt2\n",
    "   \n",
    "   \n",
    "NodeBT 1 (NodeBT 2 EmptyBT EmptyBT) (NodeBT 3 EmptyBT EmptyBT) == NodeBT 1 (NodeBT 2 EmptyBT EmptyBT) (NodeBT 3 EmptyBT EmptyBT)"
   ]
  },
  {
   "cell_type": "markdown",
   "metadata": {},
   "source": [
    "## Pkt 7\n",
    "### 7.2\n"
   ]
  },
  {
   "cell_type": "code",
   "execution_count": 22,
   "metadata": {},
   "outputs": [],
   "source": [
    "module Stack (Stack(MkStack), push, pop) where\n",
    "\n",
    "push :: a -> Stack a -> Stack a\n",
    "pop :: Stack a -> (a, Stack a)\n",
    "\n",
    "newtype Stack a = MkStack [a] deriving Show\n",
    "\n",
    "push x (MkStack s) = MkStack (x:s)\n",
    "pop (MkStack (s:ss)) = (s, MkStack ss)"
   ]
  }
 ],
 "metadata": {
  "kernelspec": {
   "display_name": "Haskell",
   "language": "haskell",
   "name": "haskell"
  },
  "language_info": {
   "codemirror_mode": "ihaskell",
   "file_extension": ".hs",
   "mimetype": "text/x-haskell",
   "name": "haskell",
   "pygments_lexer": "Haskell",
   "version": "8.6.5"
  }
 },
 "nbformat": 4,
 "nbformat_minor": 4
}

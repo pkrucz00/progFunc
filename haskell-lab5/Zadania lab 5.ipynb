{
 "cells": [
  {
   "cell_type": "markdown",
   "metadata": {},
   "source": [
    "# Zadania - lab 5\n",
    "Z jakiegoś powodu funkcje putStr nie działają, dopóki nie wpisze się wszystkich danych wejściowych\n",
    "## Pkt 2\n",
    "### 8.1\n",
    "Napisać odpowiednik `echo3` i `dialog`, wykorzystując notację `do`"
   ]
  },
  {
   "cell_type": "code",
   "execution_count": 1,
   "metadata": {},
   "outputs": [],
   "source": [
    "echo3 :: IO()\n",
    "echo3 = do\n",
    "  l1 <- getLine\n",
    "  l2 <- getLine\n",
    "  putStrLn $ l1 ++ l2\n",
    "  \n",
    "dialog :: IO()\n",
    "dialog = do\n",
    "  putStr \"What is your happy number? \"\n",
    "  n <- getLine\n",
    "  let num = read n :: Int\n",
    "  if num == 7\n",
    "  then putStrLn \"Ah, lucky 7!\"\n",
    "  else if odd num\n",
    "      then putStrLn \"Odd number! That's most people's choice...\"\n",
    "      else putStrLn \"Hm, even number? Unusual!\""
   ]
  },
  {
   "cell_type": "code",
   "execution_count": 3,
   "metadata": {},
   "outputs": [
    {
     "data": {
      "text/plain": [
       "What is your happy number? Hm, even number? Unusual!"
      ]
     },
     "metadata": {},
     "output_type": "display_data"
    }
   ],
   "source": [
    "dialog"
   ]
  },
  {
   "cell_type": "markdown",
   "metadata": {},
   "source": [
    "### 8.2\n",
    "Napisać odpowiednik twoQuestions bez użycia notacji do"
   ]
  },
  {
   "cell_type": "code",
   "execution_count": 4,
   "metadata": {},
   "outputs": [],
   "source": [
    "twoQuestions :: IO ()\n",
    "twoQuestions = do\n",
    "  putStr \"What is your name? \"\n",
    "  name <- getLine\n",
    "  putStr \"How old are you? \"\n",
    "  age <- getLine\n",
    "  print (name,age)\n",
    "  \n",
    "  echo3 :: IO ()\n",
    "echo3 =  getLine >>= \\l1 -> getLine >>= \\l2 -> putStrLn $ l1 ++ l2\n",
    "  \n",
    "twoQuestions' :: IO ()\n",
    "twoQuestions' = putStr \"What is your name?\" >> getLine >>= \\name -> putStr \"How old are you?\" >> getLine >>= \\age -> print (name,age)"
   ]
  },
  {
   "cell_type": "code",
   "execution_count": 5,
   "metadata": {},
   "outputs": [
    {
     "data": {
      "text/plain": [
       "What is your name?How old are you?(\"PaweB\",\"14\")"
      ]
     },
     "metadata": {},
     "output_type": "display_data"
    }
   ],
   "source": [
    "twoQuestions'"
   ]
  },
  {
   "cell_type": "markdown",
   "metadata": {},
   "source": [
    "### Pkt 3\n",
    "#### 4.1\n",
    "Napisać odpowiednik `sequence'` z użyciem `foldr`"
   ]
  },
  {
   "cell_type": "code",
   "execution_count": 6,
   "metadata": {},
   "outputs": [
    {
     "data": {
      "text/html": [
       "<style>/* Styles used for the Hoogle display in the pager */\n",
       ".hoogle-doc {\n",
       "display: block;\n",
       "padding-bottom: 1.3em;\n",
       "padding-left: 0.4em;\n",
       "}\n",
       ".hoogle-code {\n",
       "display: block;\n",
       "font-family: monospace;\n",
       "white-space: pre;\n",
       "}\n",
       ".hoogle-text {\n",
       "display: block;\n",
       "}\n",
       ".hoogle-name {\n",
       "color: green;\n",
       "font-weight: bold;\n",
       "}\n",
       ".hoogle-head {\n",
       "font-weight: bold;\n",
       "}\n",
       ".hoogle-sub {\n",
       "display: block;\n",
       "margin-left: 0.4em;\n",
       "}\n",
       ".hoogle-package {\n",
       "font-weight: bold;\n",
       "font-style: italic;\n",
       "}\n",
       ".hoogle-module {\n",
       "font-weight: bold;\n",
       "}\n",
       ".hoogle-class {\n",
       "font-weight: bold;\n",
       "}\n",
       ".get-type {\n",
       "color: green;\n",
       "font-weight: bold;\n",
       "font-family: monospace;\n",
       "display: block;\n",
       "white-space: pre-wrap;\n",
       "}\n",
       ".show-type {\n",
       "color: green;\n",
       "font-weight: bold;\n",
       "font-family: monospace;\n",
       "margin-left: 1em;\n",
       "}\n",
       ".mono {\n",
       "font-family: monospace;\n",
       "display: block;\n",
       "}\n",
       ".err-msg {\n",
       "color: red;\n",
       "font-style: italic;\n",
       "font-family: monospace;\n",
       "white-space: pre;\n",
       "display: block;\n",
       "}\n",
       "#unshowable {\n",
       "color: red;\n",
       "font-weight: bold;\n",
       "}\n",
       ".err-msg.in.collapse {\n",
       "padding-top: 0.7em;\n",
       "}\n",
       ".highlight-code {\n",
       "white-space: pre;\n",
       "font-family: monospace;\n",
       "}\n",
       ".suggestion-warning { \n",
       "font-weight: bold;\n",
       "color: rgb(200, 130, 0);\n",
       "}\n",
       ".suggestion-error { \n",
       "font-weight: bold;\n",
       "color: red;\n",
       "}\n",
       ".suggestion-name {\n",
       "font-weight: bold;\n",
       "}\n",
       "</style><div class=\"suggestion-name\" style=\"clear:both;\">Use sequence_</div><div class=\"suggestion-row\" style=\"float: left;\"><div class=\"suggestion-warning\">Found:</div><div class=\"highlight-code\" id=\"haskell\">foldr (>>) (return ())</div></div><div class=\"suggestion-row\" style=\"float: left;\"><div class=\"suggestion-warning\">Why Not:</div><div class=\"highlight-code\" id=\"haskell\">sequence_</div></div>"
      ],
      "text/plain": [
       "Line 1: Use sequence_\n",
       "Found:\n",
       "foldr (>>) (return ())\n",
       "Why not:\n",
       "sequence_"
      ]
     },
     "metadata": {},
     "output_type": "display_data"
    },
    {
     "data": {
      "text/plain": [
       "Hathor\n",
       "Hathor\n",
       "Hathor"
      ]
     },
     "metadata": {},
     "output_type": "display_data"
    }
   ],
   "source": [
    "foldr (>>) (return ()) [putStrLn \"Hathor\", putStrLn \"Hathor\", putStrLn \"Hathor\"]"
   ]
  },
  {
   "cell_type": "markdown",
   "metadata": {},
   "source": [
    "#### 4.2\n",
    "Zamienić `>>` z wyrażenia wyżej na wyrażenie lambda"
   ]
  },
  {
   "cell_type": "code",
   "execution_count": 7,
   "metadata": {},
   "outputs": [
    {
     "data": {
      "text/html": [
       "<style>/* Styles used for the Hoogle display in the pager */\n",
       ".hoogle-doc {\n",
       "display: block;\n",
       "padding-bottom: 1.3em;\n",
       "padding-left: 0.4em;\n",
       "}\n",
       ".hoogle-code {\n",
       "display: block;\n",
       "font-family: monospace;\n",
       "white-space: pre;\n",
       "}\n",
       ".hoogle-text {\n",
       "display: block;\n",
       "}\n",
       ".hoogle-name {\n",
       "color: green;\n",
       "font-weight: bold;\n",
       "}\n",
       ".hoogle-head {\n",
       "font-weight: bold;\n",
       "}\n",
       ".hoogle-sub {\n",
       "display: block;\n",
       "margin-left: 0.4em;\n",
       "}\n",
       ".hoogle-package {\n",
       "font-weight: bold;\n",
       "font-style: italic;\n",
       "}\n",
       ".hoogle-module {\n",
       "font-weight: bold;\n",
       "}\n",
       ".hoogle-class {\n",
       "font-weight: bold;\n",
       "}\n",
       ".get-type {\n",
       "color: green;\n",
       "font-weight: bold;\n",
       "font-family: monospace;\n",
       "display: block;\n",
       "white-space: pre-wrap;\n",
       "}\n",
       ".show-type {\n",
       "color: green;\n",
       "font-weight: bold;\n",
       "font-family: monospace;\n",
       "margin-left: 1em;\n",
       "}\n",
       ".mono {\n",
       "font-family: monospace;\n",
       "display: block;\n",
       "}\n",
       ".err-msg {\n",
       "color: red;\n",
       "font-style: italic;\n",
       "font-family: monospace;\n",
       "white-space: pre;\n",
       "display: block;\n",
       "}\n",
       "#unshowable {\n",
       "color: red;\n",
       "font-weight: bold;\n",
       "}\n",
       ".err-msg.in.collapse {\n",
       "padding-top: 0.7em;\n",
       "}\n",
       ".highlight-code {\n",
       "white-space: pre;\n",
       "font-family: monospace;\n",
       "}\n",
       ".suggestion-warning { \n",
       "font-weight: bold;\n",
       "color: rgb(200, 130, 0);\n",
       "}\n",
       ".suggestion-error { \n",
       "font-weight: bold;\n",
       "color: red;\n",
       "}\n",
       ".suggestion-name {\n",
       "font-weight: bold;\n",
       "}\n",
       "</style><div class=\"suggestion-name\" style=\"clear:both;\">Use const</div><div class=\"suggestion-row\" style=\"float: left;\"><div class=\"suggestion-warning\">Found:</div><div class=\"highlight-code\" id=\"haskell\">\\ _ -> f</div></div><div class=\"suggestion-row\" style=\"float: left;\"><div class=\"suggestion-warning\">Why Not:</div><div class=\"highlight-code\" id=\"haskell\">const f</div></div>"
      ],
      "text/plain": [
       "Line 1: Use const\n",
       "Found:\n",
       "\\ _ -> f\n",
       "Why not:\n",
       "const f"
      ]
     },
     "metadata": {},
     "output_type": "display_data"
    },
    {
     "ename": "",
     "evalue": "",
     "output_type": "error",
     "traceback": [
      "<interactive>:1:14: error: Variable not in scope: f :: m () -> m ()"
     ]
    }
   ],
   "source": [
    "foldr (\\_ -> f) (return ()) [putStrLn \"Hathor\", putStrLn \"Hathor\", putStrLn \"Hathor\"]"
   ]
  },
  {
   "cell_type": "markdown",
   "metadata": {},
   "source": [
    "#### 4.3\n",
    "Napisać funcje jak wyżej, ale \"na odwrót\", w dwóch wariantach - z `foldr`, ale odwróconą tablicą oraz z użyciem `foldl`"
   ]
  },
  {
   "cell_type": "code",
   "execution_count": 8,
   "metadata": {},
   "outputs": [
    {
     "data": {
      "text/html": [
       "<style>/* Styles used for the Hoogle display in the pager */\n",
       ".hoogle-doc {\n",
       "display: block;\n",
       "padding-bottom: 1.3em;\n",
       "padding-left: 0.4em;\n",
       "}\n",
       ".hoogle-code {\n",
       "display: block;\n",
       "font-family: monospace;\n",
       "white-space: pre;\n",
       "}\n",
       ".hoogle-text {\n",
       "display: block;\n",
       "}\n",
       ".hoogle-name {\n",
       "color: green;\n",
       "font-weight: bold;\n",
       "}\n",
       ".hoogle-head {\n",
       "font-weight: bold;\n",
       "}\n",
       ".hoogle-sub {\n",
       "display: block;\n",
       "margin-left: 0.4em;\n",
       "}\n",
       ".hoogle-package {\n",
       "font-weight: bold;\n",
       "font-style: italic;\n",
       "}\n",
       ".hoogle-module {\n",
       "font-weight: bold;\n",
       "}\n",
       ".hoogle-class {\n",
       "font-weight: bold;\n",
       "}\n",
       ".get-type {\n",
       "color: green;\n",
       "font-weight: bold;\n",
       "font-family: monospace;\n",
       "display: block;\n",
       "white-space: pre-wrap;\n",
       "}\n",
       ".show-type {\n",
       "color: green;\n",
       "font-weight: bold;\n",
       "font-family: monospace;\n",
       "margin-left: 1em;\n",
       "}\n",
       ".mono {\n",
       "font-family: monospace;\n",
       "display: block;\n",
       "}\n",
       ".err-msg {\n",
       "color: red;\n",
       "font-style: italic;\n",
       "font-family: monospace;\n",
       "white-space: pre;\n",
       "display: block;\n",
       "}\n",
       "#unshowable {\n",
       "color: red;\n",
       "font-weight: bold;\n",
       "}\n",
       ".err-msg.in.collapse {\n",
       "padding-top: 0.7em;\n",
       "}\n",
       ".highlight-code {\n",
       "white-space: pre;\n",
       "font-family: monospace;\n",
       "}\n",
       ".suggestion-warning { \n",
       "font-weight: bold;\n",
       "color: rgb(200, 130, 0);\n",
       "}\n",
       ".suggestion-error { \n",
       "font-weight: bold;\n",
       "color: red;\n",
       "}\n",
       ".suggestion-name {\n",
       "font-weight: bold;\n",
       "}\n",
       "</style><div class=\"suggestion-name\" style=\"clear:both;\">Use sequence_</div><div class=\"suggestion-row\" style=\"float: left;\"><div class=\"suggestion-warning\">Found:</div><div class=\"highlight-code\" id=\"haskell\">foldr (>>) (return ())</div></div><div class=\"suggestion-row\" style=\"float: left;\"><div class=\"suggestion-warning\">Why Not:</div><div class=\"highlight-code\" id=\"haskell\">sequence_</div></div>"
      ],
      "text/plain": [
       "Line 1: Use sequence_\n",
       "Found:\n",
       "foldr (>>) (return ())\n",
       "Why not:\n",
       "sequence_"
      ]
     },
     "metadata": {},
     "output_type": "display_data"
    },
    {
     "data": {
      "text/plain": [
       "Hathor3\n",
       "Hathor2\n",
       "Hathor1"
      ]
     },
     "metadata": {},
     "output_type": "display_data"
    }
   ],
   "source": [
    "foldr (>>) (return ()) $ reverse [putStrLn \"Hathor1\", putStrLn \"Hathor2\", putStrLn \"Hathor3\"]"
   ]
  },
  {
   "cell_type": "markdown",
   "metadata": {},
   "source": [
    "Czemu to nie działa tak jak trzeba?"
   ]
  },
  {
   "cell_type": "code",
   "execution_count": 9,
   "metadata": {},
   "outputs": [
    {
     "data": {
      "text/plain": [
       "Hathor1\n",
       "Hathor2\n",
       "Hathor3"
      ]
     },
     "metadata": {},
     "output_type": "display_data"
    }
   ],
   "source": [
    "foldl (>>) (return ())  [putStrLn \"Hathor1\", putStrLn \"Hathor2\", putStrLn \"Hathor3\"]"
   ]
  },
  {
   "cell_type": "markdown",
   "metadata": {},
   "source": [
    "### pkt 6 -  dołączanie typów użytkownika do klasy `Functor`\n",
    "####  8.1"
   ]
  },
  {
   "cell_type": "markdown",
   "metadata": {},
   "source": [
    "Sprawdzić możliwość automatycznego wygenerowania instancji Functor dla typu MyList (klauzula deriving)\n",
    "\n",
    "\n",
    "ODP: Jest to możliwe dzięki użyciu `{-# LANGUAGE DeriveFunctor #-}`\n",
    "\n",
    "#### 8.2\n",
    "Napisać własną implementację funktora (instance Functor), a następnie sprawdzić możliwość jej automatycznego wygenerowania dla drzewa binarnego zdefiniowanego jako\n",
    "`data BinTree a = EmptyBT | NodeBT a (BinTree a) (BinTree a) deriving (Show)`"
   ]
  },
  {
   "cell_type": "code",
   "execution_count": 10,
   "metadata": {},
   "outputs": [
    {
     "data": {
      "text/html": [
       "<style>/* Styles used for the Hoogle display in the pager */\n",
       ".hoogle-doc {\n",
       "display: block;\n",
       "padding-bottom: 1.3em;\n",
       "padding-left: 0.4em;\n",
       "}\n",
       ".hoogle-code {\n",
       "display: block;\n",
       "font-family: monospace;\n",
       "white-space: pre;\n",
       "}\n",
       ".hoogle-text {\n",
       "display: block;\n",
       "}\n",
       ".hoogle-name {\n",
       "color: green;\n",
       "font-weight: bold;\n",
       "}\n",
       ".hoogle-head {\n",
       "font-weight: bold;\n",
       "}\n",
       ".hoogle-sub {\n",
       "display: block;\n",
       "margin-left: 0.4em;\n",
       "}\n",
       ".hoogle-package {\n",
       "font-weight: bold;\n",
       "font-style: italic;\n",
       "}\n",
       ".hoogle-module {\n",
       "font-weight: bold;\n",
       "}\n",
       ".hoogle-class {\n",
       "font-weight: bold;\n",
       "}\n",
       ".get-type {\n",
       "color: green;\n",
       "font-weight: bold;\n",
       "font-family: monospace;\n",
       "display: block;\n",
       "white-space: pre-wrap;\n",
       "}\n",
       ".show-type {\n",
       "color: green;\n",
       "font-weight: bold;\n",
       "font-family: monospace;\n",
       "margin-left: 1em;\n",
       "}\n",
       ".mono {\n",
       "font-family: monospace;\n",
       "display: block;\n",
       "}\n",
       ".err-msg {\n",
       "color: red;\n",
       "font-style: italic;\n",
       "font-family: monospace;\n",
       "white-space: pre;\n",
       "display: block;\n",
       "}\n",
       "#unshowable {\n",
       "color: red;\n",
       "font-weight: bold;\n",
       "}\n",
       ".err-msg.in.collapse {\n",
       "padding-top: 0.7em;\n",
       "}\n",
       ".highlight-code {\n",
       "white-space: pre;\n",
       "font-family: monospace;\n",
       "}\n",
       ".suggestion-warning { \n",
       "font-weight: bold;\n",
       "color: rgb(200, 130, 0);\n",
       "}\n",
       ".suggestion-error { \n",
       "font-weight: bold;\n",
       "color: red;\n",
       "}\n",
       ".suggestion-name {\n",
       "font-weight: bold;\n",
       "}\n",
       "</style><div class=\"suggestion-name\" style=\"clear:both;\">Unused LANGUAGE pragma</div><div class=\"suggestion-row\" style=\"float: left;\"><div class=\"suggestion-warning\">Found:</div><div class=\"highlight-code\" id=\"haskell\">{-# LANGUAGE DeriveFunctor #-}</div></div><div class=\"suggestion-row\" style=\"float: left;\"><div class=\"suggestion-warning\">Why Not:</div><div class=\"highlight-code\" id=\"haskell\"></div></div>"
      ],
      "text/plain": [
       "Line 1: Unused LANGUAGE pragma\n",
       "Found:\n",
       "{-# LANGUAGE DeriveFunctor #-}\n",
       "Why not:"
      ]
     },
     "metadata": {},
     "output_type": "display_data"
    }
   ],
   "source": [
    "{-# LANGUAGE DeriveFunctor #-}\n",
    "\n",
    "data BinTree a = EmptyBT | NodeBT a (BinTree a) (BinTree a) deriving (Show)\n",
    "\n",
    "\n",
    "instance Functor BinTree where\n",
    "   fmap _ EmptyBT = EmptyBT\n",
    "   fmap f (NodeBT node lt rt) = NodeBT (f node) (fmap f lt) (fmap f rt) "
   ]
  },
  {
   "cell_type": "code",
   "execution_count": 11,
   "metadata": {},
   "outputs": [
    {
     "data": {
      "text/plain": [
       "NodeBT 3 (NodeBT 4 EmptyBT EmptyBT) (NodeBT 5 EmptyBT EmptyBT)"
      ]
     },
     "metadata": {},
     "output_type": "display_data"
    }
   ],
   "source": [
    "let casualBinTree = (NodeBT 1 (NodeBT 2 EmptyBT EmptyBT) (NodeBT 3 EmptyBT EmptyBT))\n",
    "fmap (+2) casualBinTree"
   ]
  },
  {
   "cell_type": "markdown",
   "metadata": {},
   "source": [
    "### pkt 8 - dołączanie typów aplikatywnych do klas użytkownika\n",
    "#### 4.1\n",
    "Napisać implementacje funktora aplikatywnego (instance Applicative) dla typu `newtype MyTriple a = MyTriple (a,a,a) deriving Show`"
   ]
  },
  {
   "cell_type": "code",
   "execution_count": 16,
   "metadata": {},
   "outputs": [
    {
     "ename": "",
     "evalue": "",
     "output_type": "error",
     "traceback": [
      "<interactive>:5:10: error:\n    • Occurs check: cannot construct the infinite type: a ~ (a, a, a)\n      Expected type: a -> MyTriple a\n        Actual type: (a, a, a) -> MyTriple a\n    • In the expression: MyTriple\n      In an equation for ‘pure’: pure = MyTriple\n      In the instance declaration for ‘Applicative MyTriple’\n    • Relevant bindings include pure :: a -> MyTriple a (bound at <interactive>:5:3)\n<interactive>:6:29: error:\n    • Couldn't match expected type ‘a -> b’ with actual type ‘(a -> b, a -> b, a -> b)’\n    • In the first argument of ‘fmap’, namely ‘f’\n      In the expression: fmap f x\n      In an equation for ‘<*>’: (MyTriple f) <*> x = fmap f x\n    • Relevant bindings include\n        x :: MyTriple a (bound at <interactive>:6:20)\n        f :: (a -> b, a -> b, a -> b) (bound at <interactive>:6:13)\n        (<*>) :: MyTriple (a -> b) -> MyTriple a -> MyTriple b (bound at <interactive>:6:16)\n<interactive>:3:25: error:\n    • Couldn't match expected type ‘(a, a, a) -> MyTriple b’ with actual type ‘MyTriple a0’\n    • The function ‘MyTriple’ is applied to two arguments,\n      but its type ‘(a0, a0, a0) -> MyTriple a0’ has only one\n      In the expression: MyTriple f a\n      In an equation for ‘fmap’: fmap f (MyTriple a) = MyTriple f a\n    • Relevant bindings include\n        a :: (a, a, a) (bound at <interactive>:3:20)\n        f :: a -> b (bound at <interactive>:3:8)\n        fmap :: (a -> b) -> MyTriple a -> MyTriple b (bound at <interactive>:3:3)\n<interactive>:3:34: error:\n    • Couldn't match expected type ‘(a0, a0, a0)’ with actual type ‘a -> b’\n    • Probable cause: ‘f’ is applied to too few arguments\n      In the first argument of ‘MyTriple’, namely ‘f’\n      In the expression: MyTriple f a\n      In an equation for ‘fmap’: fmap f (MyTriple a) = MyTriple f a\n    • Relevant bindings include\n        a :: (a, a, a) (bound at <interactive>:3:20)\n        f :: a -> b (bound at <interactive>:3:8)\n        fmap :: (a -> b) -> MyTriple a -> MyTriple b (bound at <interactive>:3:3)"
     ]
    }
   ],
   "source": [
    "newtype MyTriple a = MyTriple (a,a,a) deriving Show\n",
    "\n",
    "instance Functor MyTriple where\n",
    "  fmap f (MyTriple a) = MyTriple f a\n",
    "    \n",
    "instance Applicative MyTriple where\n",
    "  pure = MyTriple\n",
    "  (MyTriple f) <*> x = fmap f x \n"
   ]
  },
  {
   "cell_type": "markdown",
   "metadata": {},
   "source": [
    "Niestety nie udało mi się napisać odpowiedniej definicji funkcji aplikatywnej :("
   ]
  },
  {
   "cell_type": "code",
   "execution_count": null,
   "metadata": {},
   "outputs": [],
   "source": []
  }
 ],
 "metadata": {
  "kernelspec": {
   "display_name": "Haskell",
   "language": "haskell",
   "name": "haskell"
  },
  "language_info": {
   "codemirror_mode": "ihaskell",
   "file_extension": ".hs",
   "mimetype": "text/x-haskell",
   "name": "haskell",
   "pygments_lexer": "Haskell",
   "version": "8.6.5"
  }
 },
 "nbformat": 4,
 "nbformat_minor": 4
}
